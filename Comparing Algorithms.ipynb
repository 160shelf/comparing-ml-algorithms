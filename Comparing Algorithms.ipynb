{
 "cells": [
  {
   "cell_type": "markdown",
   "metadata": {},
   "source": [
    "# Comparing Machine Learning Methods\n",
    "Classifying the Diabetes Dataset using four Classifiers : KNN, ANN-MLP, Decision Tree, and SVM\n",
    "Dataset link : https://www.kaggle.com/johndasilva/diabetes\n",
    "Medium Post : https://medium.com/@160shelf/comparing-machine-learning-algorithms-89a3b38d22a0?sk=83323bd927cc7eccafb305c65a934264"
   ]
  },
  {
   "cell_type": "code",
   "execution_count": 226,
   "metadata": {},
   "outputs": [],
   "source": [
    "#Import Library\n",
    "import pandas as pd\n",
    "import numpy as np\n",
    "#Preprocessing\n",
    "from imblearn.over_sampling import SMOTE\n",
    "from sklearn.preprocessing import StandardScaler\n",
    "#Machine Learning Algorithms\n",
    "from sklearn.neighbors import KNeighborsClassifier\n",
    "from sklearn.neural_network import MLPClassifier\n",
    "from sklearn.tree import DecisionTreeClassifier\n",
    "from sklearn.svm import SVC\n",
    "#Performance\n",
    "from sklearn.metrics import accuracy_score"
   ]
  },
  {
   "cell_type": "markdown",
   "metadata": {},
   "source": [
    "# Read data using Pandas"
   ]
  },
  {
   "cell_type": "code",
   "execution_count": 148,
   "metadata": {},
   "outputs": [],
   "source": [
    "path = 'diabetes.csv'\n",
    "df = pd.read_csv(path)"
   ]
  },
  {
   "cell_type": "markdown",
   "metadata": {},
   "source": [
    "# Data preview\n"
   ]
  },
  {
   "cell_type": "code",
   "execution_count": 264,
   "metadata": {},
   "outputs": [
    {
     "name": "stdout",
     "output_type": "stream",
     "text": [
      "********************************************************************************************************************************************\n",
      "Data Head\n",
      "   Pregnancies  Glucose  BloodPressure  SkinThickness  Insulin   BMI  \\\n",
      "0            2      138             62             35        0  33.6   \n",
      "1            0       84             82             31      125  38.2   \n",
      "2            0      145              0              0        0  44.2   \n",
      "3            0      135             68             42      250  42.3   \n",
      "4            1      139             62             41      480  40.7   \n",
      "\n",
      "   DiabetesPedigreeFunction  Age  Outcome  \n",
      "0                     0.127   47        1  \n",
      "1                     0.233   23        0  \n",
      "2                     0.630   31        1  \n",
      "3                     0.365   24        1  \n",
      "4                     0.536   21        0  \n",
      "********************************************************************************************************************************************\n",
      "Data shape: (2000, 9)\n",
      "********************************************************************************************************************************************\n",
      "Class Distribution\n",
      "0    1316\n",
      "1     684\n",
      "Name: Outcome, dtype: int64\n",
      "********************************************************************************************************************************************\n",
      "Features Correlation over Outcome\n",
      "Outcome                     1.000000\n",
      "Glucose                     0.458421\n",
      "BMI                         0.276726\n",
      "Age                         0.236509\n",
      "Pregnancies                 0.224437\n",
      "DiabetesPedigreeFunction    0.155459\n",
      "Insulin                     0.120924\n",
      "SkinThickness               0.076040\n",
      "BloodPressure               0.075958\n",
      "Name: Outcome, dtype: float64\n",
      "********************************************************************************************************************************************\n",
      "NaN Values\n",
      "Pregnancies                 0\n",
      "Glucose                     0\n",
      "BloodPressure               0\n",
      "SkinThickness               0\n",
      "Insulin                     0\n",
      "BMI                         0\n",
      "DiabetesPedigreeFunction    0\n",
      "Age                         0\n",
      "Outcome                     0\n",
      "dtype: int64\n"
     ]
    }
   ],
   "source": [
    "print(\"*******\"*20)\n",
    "print('Data Head')\n",
    "print(data.head(5))\n",
    "print(\"*******\"*20)\n",
    "print('Data shape:', data.shape)\n",
    "print(\"*******\"*20)\n",
    "print('Class Distribution')\n",
    "class_values_distribution = data.iloc[:,8].value_counts()\n",
    "print(class_values_distribution)\n",
    "print(\"*******\"*20)\n",
    "print('Features Correlation over Outcome')\n",
    "dfCorr = data.corr()\n",
    "cor_target = dfCorr['Outcome']\n",
    "print(cor_target.sort_values(ascending=False))\n",
    "print(\"*******\"*20)\n",
    "print('NaN Values')\n",
    "data_null = data.isnull().sum()\n",
    "print(data_null)"
   ]
  },
  {
   "cell_type": "markdown",
   "metadata": {},
   "source": [
    "# Data Preprocessing"
   ]
  },
  {
   "cell_type": "code",
   "execution_count": 281,
   "metadata": {},
   "outputs": [
    {
     "name": "stdout",
     "output_type": "stream",
     "text": [
      "Class Distribution\n",
      "[(0, 1063), (1, 537)]\n",
      "Class Distribution after Oversampling\n",
      "[(0, 1063), (1, 1063)]\n"
     ]
    }
   ],
   "source": [
    "#Splitting Features and Class\n",
    "X = df.drop(columns=['Outcome']) #<<Training Data\n",
    "y = df['Outcome'].values #<<Kelas\n",
    "#Split into Train and Test\n",
    "X_train, X_test, y_train, y_test = train_test_split(X, y, test_size=0.2, random_state=i)\n",
    "print('Class Distribution')\n",
    "print(sorted(Counter(y_train).items()))\n",
    "\n",
    "# Oversampling\n",
    "X_train, y_train = SMOTE().fit_resample(X_train, y_train)\n",
    "print('Class Distribution after Oversampling')\n",
    "print(sorted(Counter(y_train).items()))\n",
    "\n",
    "# Saving the Train and Test Dataset without Standard Scaler\n",
    "X_t = X_train\n",
    "y_t = y_train\n",
    "X_t2 = X_test\n",
    "y_t2 = y_test\n",
    "\n",
    "#Normalizing the data with Standard Scaler\n",
    "scaler = StandardScaler()  \n",
    "scaler.fit(X_train)  \n",
    "X_train = scaler.transform(X_train)  \n",
    "X_test = scaler.transform(X_test) "
   ]
  },
  {
   "cell_type": "markdown",
   "metadata": {},
   "source": [
    "# KNN Classifier"
   ]
  },
  {
   "cell_type": "code",
   "execution_count": 279,
   "metadata": {},
   "outputs": [
    {
     "name": "stdout",
     "output_type": "stream",
     "text": [
      "Accuracy :  0.91\n"
     ]
    }
   ],
   "source": [
    "model = KNeighborsClassifier(n_neighbors=3)\n",
    "model.fit(X_train, y_train)\n",
    "target_pred = model.predict(X_test)\n",
    "acc=accuracy_score(y_test,target_pred)\n",
    "print('Accuracy : ',acc)"
   ]
  },
  {
   "cell_type": "code",
   "execution_count": 287,
   "metadata": {},
   "outputs": [
    {
     "name": "stdout",
     "output_type": "stream",
     "text": [
      "Accuracy :  0.9075\n"
     ]
    }
   ],
   "source": [
    "model = KNeighborsClassifier(n_neighbors=3)\n",
    "model.fit(X_train, y_train)\n",
    "target_pred = model.predict(X_test)\n",
    "acc=accuracy_score(y_test,target_pred)\n",
    "print('Accuracy : ',acc)"
   ]
  },
  {
   "cell_type": "markdown",
   "metadata": {},
   "source": [
    "# ANN- MLP Classifier"
   ]
  },
  {
   "cell_type": "code",
   "execution_count": 235,
   "metadata": {},
   "outputs": [
    {
     "name": "stdout",
     "output_type": "stream",
     "text": [
      "0.94\n"
     ]
    },
    {
     "name": "stderr",
     "output_type": "stream",
     "text": [
      "C:\\Users\\ranifarinda\\Anaconda3\\lib\\site-packages\\sklearn\\neural_network\\multilayer_perceptron.py:566: ConvergenceWarning: Stochastic Optimizer: Maximum iterations (1000) reached and the optimization hasn't converged yet.\n",
      "  % self.max_iter, ConvergenceWarning)\n"
     ]
    }
   ],
   "source": [
    "model = MLPClassifier(max_iter = 1000)\n",
    "model.fit(X_train, y_train)\n",
    "target_pred = model.predict(X_test)\n",
    "acc=(accuracy_score(y_test,target_pred))\n",
    "print('Accuracy : ',acc)"
   ]
  },
  {
   "cell_type": "markdown",
   "metadata": {},
   "source": [
    "# ANN - MLP Classifier without Standard Scaler"
   ]
  },
  {
   "cell_type": "code",
   "execution_count": 284,
   "metadata": {},
   "outputs": [
    {
     "name": "stdout",
     "output_type": "stream",
     "text": [
      "Accuracy :  0.71\n"
     ]
    }
   ],
   "source": [
    "model = MLPClassifier(max_iter = 1000)\n",
    "model.fit(X_t, y_t)\n",
    "target_pred = model.predict(X_t2)\n",
    "acc=(accuracy_score(y_t2,target_pred))\n",
    "print('Accuracy : ',acc)"
   ]
  },
  {
   "cell_type": "markdown",
   "metadata": {},
   "source": [
    "# Decision Tree Classifier"
   ]
  },
  {
   "cell_type": "code",
   "execution_count": 258,
   "metadata": {},
   "outputs": [
    {
     "data": {
      "text/plain": [
       "0.97"
      ]
     },
     "execution_count": 258,
     "metadata": {},
     "output_type": "execute_result"
    }
   ],
   "source": [
    "model = DecisionTreeClassifier()\n",
    "model.fit(X_train, y_train)\n",
    "target_pred = model.predict(X_test)\n",
    "acc=accuracy_score(y_test,target_pred)\n",
    "print('Accuracy : ',acc)"
   ]
  },
  {
   "cell_type": "markdown",
   "metadata": {},
   "source": [
    "# Decision Tree without Standard Scaler"
   ]
  },
  {
   "cell_type": "code",
   "execution_count": 286,
   "metadata": {},
   "outputs": [
    {
     "name": "stdout",
     "output_type": "stream",
     "text": [
      "Accuracy :  0.98\n"
     ]
    }
   ],
   "source": [
    "model = DecisionTreeClassifier()\n",
    "model.fit(X_t, y_t)\n",
    "target_pred = model.predict(X_t2)\n",
    "acc=(accuracy_score(y_t2,target_pred))\n",
    "print('Accuracy : ',acc)"
   ]
  },
  {
   "cell_type": "markdown",
   "metadata": {},
   "source": [
    "# SVM Classifier"
   ]
  },
  {
   "cell_type": "code",
   "execution_count": 257,
   "metadata": {},
   "outputs": [
    {
     "name": "stdout",
     "output_type": "stream",
     "text": [
      "0.8425\n"
     ]
    }
   ],
   "source": [
    "model = SVC(gamma='auto')\n",
    "model.fit(X_train, y_train)\n",
    "target_pred = model.predict(X_test)\n",
    "acc=(accuracy_score(y_test,target_pred))\n",
    "print('Accuracy : ',acc)"
   ]
  },
  {
   "cell_type": "markdown",
   "metadata": {},
   "source": [
    "# SVM Classifier without Standard Scaler Normalization"
   ]
  },
  {
   "cell_type": "code",
   "execution_count": 282,
   "metadata": {},
   "outputs": [
    {
     "name": "stdout",
     "output_type": "stream",
     "text": [
      "Accuracy :  0.975\n"
     ]
    }
   ],
   "source": [
    "model = SVC(gamma='auto')\n",
    "model.fit(X_t, y_t)\n",
    "target_pred = model.predict(X_t2)\n",
    "acc=(accuracy_score(y_t2,target_pred))\n",
    "print('Accuracy : ',acc)"
   ]
  },
  {
   "cell_type": "code",
   "execution_count": 302,
   "metadata": {},
   "outputs": [
    {
     "data": {
      "image/png": "[encoded data removed]",
      "text/plain": [
       "<Figure size 432x288 with 1 Axes>"
      ]
     },
     "metadata": {
      "needs_background": "light"
     },
     "output_type": "display_data"
    }
   ],
   "source": [
    "# Visualization\n",
    "import matplotlib\n",
    "import matplotlib.pyplot as plt\n",
    "import numpy as np\n",
    "\n",
    "\n",
    "labels = ['KNN', 'MLP', 'Decision Tree', 'SVM']\n",
    "ss = [0.91, 0.94, 0.97, 0.8425]\n",
    "no_ss = [0.9075, 0.71, 0.98, 0.975]\n",
    "\n",
    "x = np.arange(len(labels))  # the label locations\n",
    "width = 0.25  # the width of the bars\n",
    "\n",
    "fig, ax = plt.subplots()\n",
    "rects1 = ax.bar(x - width/2, ss, width, label='With Standard Scaler')\n",
    "rects2 = ax.bar(x + width/2, no_ss, width, label='Without Standard Scaler')\n",
    "\n",
    "# Add some text for labels, title and custom x-axis tick labels, etc.\n",
    "ax.set_ylabel('Accuracy')\n",
    "ax.set_title('Accuracy by Algorithms')\n",
    "ax.set_xticks(x)\n",
    "ax.set_xticklabels(labels)\n",
    "ax.legend()\n",
    "\n",
    "\n",
    "def autolabel(rects):\n",
    "    \"\"\"Attach a text label above each bar in *rects*, displaying its height.\"\"\"\n",
    "    for rect in rects:\n",
    "        height = rect.get_height()\n",
    "        ax.annotate('{}'.format(height),\n",
    "                    xy=(rect.get_x() + rect.get_width() / 2, height),\n",
    "                    xytext=(0, 0),  # 3 points vertical offset\n",
    "                    textcoords=\"offset points\",\n",
    "                    ha='center', va='bottom')\n",
    "\n",
    "\n",
    "autolabel(rects1)\n",
    "autolabel(rects2)\n",
    "\n",
    "fig.tight_layout()\n",
    "plt.show()"
   ]
  },
  {
   "cell_type": "code",
   "execution_count": null,
   "metadata": {},
   "outputs": [],
   "source": []
  }
 ],
 "metadata": {
  "kernelspec": {
   "display_name": "Python 3",
   "language": "python",
   "name": "python3"
  },
  "language_info": {
   "codemirror_mode": {
    "name": "ipython",
    "version": 3
   },
   "file_extension": ".py",
   "mimetype": "text/x-python",
   "name": "python",
   "nbconvert_exporter": "python",
   "pygments_lexer": "ipython3",
   "version": "3.6.8"
  }
 },
 "nbformat": 4,
 "nbformat_minor": 2
}
